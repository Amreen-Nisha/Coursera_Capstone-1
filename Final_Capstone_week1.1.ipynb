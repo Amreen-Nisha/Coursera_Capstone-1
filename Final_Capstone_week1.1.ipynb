{
    "cells": [
        {
            "cell_type": "markdown",
            "metadata": {
                "collapsed": true
            },
            "source": "# The Battle of Neighborhoods: Finding new neighborhoods to live in a new city \n\n## New York vs San Diego"
        },
        {
            "cell_type": "markdown",
            "metadata": {},
            "source": "### INTRODUCTION"
        },
        {
            "cell_type": "markdown",
            "metadata": {},
            "source": "According to American Moving Statistics, 32 million people in the US moved in 2018, that is 10.1% of the population of 319 million US residents. The reasons for moving cities varied from Wanting new or better home/apartment to new job/job transfer/other job related reasons. Also, Rober Half's survey shows that 62% of workers said they would relocate for a job. \n\nThe basis of this project is to help people compare the cities they're moving from and to, then recommend locations in their new cities by exploring venue-based city-to-city simialrity mearues, clustering neighborhoods within a city, looking at housing requirements and prices as well as crime rates.\n\nIn this project, I am going to use New York, NY and San Diego, CA as my two cities to demonstrate the methodology, which will then be able to be used for different cities. I am moving from New York, NY to San Diego, CA for a job, and interested in areas that meets the following criteria:\n\n- Similar to my current neighborhood, Chelsea, Manhattan(venues and mentities as in my current residence)\n- Have my preferred venue types\n- Have at least 2bed+ houses(preferrably 3bed+) that are affordable, my maximum budget is 1.5m\n- Safe enough to be able to walk around alone"
        },
        {
            "cell_type": "code",
            "execution_count": null,
            "metadata": {},
            "outputs": [],
            "source": ""
        }
    ],
    "metadata": {
        "kernelspec": {
            "display_name": "Python 3.6",
            "language": "python",
            "name": "python3"
        },
        "language_info": {
            "codemirror_mode": {
                "name": "ipython",
                "version": 3
            },
            "file_extension": ".py",
            "mimetype": "text/x-python",
            "name": "python",
            "nbconvert_exporter": "python",
            "pygments_lexer": "ipython3",
            "version": "3.6.9"
        }
    },
    "nbformat": 4,
    "nbformat_minor": 1
}