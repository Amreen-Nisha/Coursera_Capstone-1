{
    "cells": [
        {
            "cell_type": "markdown",
            "metadata": {
                "collapsed": true
            },
            "source": "# The Battle of Neighborhoods: Finding new neighborhoods to live in a new city \n\n## New York vs San Diego"
        },
        {
            "cell_type": "markdown",
            "metadata": {},
            "source": "### INTRODUCTION / PROBLEM"
        },
        {
            "cell_type": "markdown",
            "metadata": {},
            "source": "**Abstract**<br>\nMy imaginary client is moving from New York, NY to San Diego, CA for a job. However, she's only lived in New York all her life and is having a hard time to decide which neighborhood in San Diego she should live in. She is interested in areas that meets the following criteria:\n\n- Similar to her current neighborhood, Chelsea, Manhattan(venues and mentities as in my current residence)\n- Have her preferred venue types\n- Have at least 2bed+ houses(preferrably 3bed+) that are affordable, her maximum budget is 1.5m\n- Safe enough for her to be able to walk around alone whenever\n\nBut with so many options and so much information available, how does she choose?\n\n**Introduction**<br>\nAccording to American Moving Statistics, 32 million people in the US moved in 2018, that is 10.1% of the population of 319 million US residents. The reasons for moving cities varied from Wanting new or better home/apartment to new job/job transfer/other job related reasons. Also, Rober Half's survey shows that 62% of workers said they would relocate for a job. \n\nWhen relocating, some people struggle to figure out which area they should look into, mainly because a lot of times they don't know much about the new city they're moving to. The basis of this project is to help people, who are relocating and don't know much about the city they're moving to, easily compare cities and recommend possible locations/neighborhoods that they might be interested in. It does this by exploring venue-based city-to-city simialrity measures, clustering neighborhoods within a city, and looking at housing requirements and prices as well as crime rates.\n\nIn this project, I am going to use New York, NY and San Diego, CA as my two cities to demonstrate the methodology, which can then be used for any cities that people want to compare.\n\n**Problem to solve**<br>\nMy client does not know San Diego well, since she's lived in NY only all her life. She has some ideas of what she wants in her new neighbor, but cannot figure out which neighbors in San Diego would meet her preference. How does she choose her new neighborhood?\n\n**Target Audience**<br>\nMy client who is relocating to San Diego and does not know much about the city nor the neighborhoods."
        },
        {
            "cell_type": "markdown",
            "metadata": {},
            "source": "### DATA"
        },
        {
            "cell_type": "markdown",
            "metadata": {},
            "source": "**Introduction**<br>\n[US Moving Statistics for 2019](https://www.moving.com/tips/us-moving-statistics-for-2019/): This site provides the complied data from United States Census Bureau. We can see how many people in the US move each year, top 10 states people are moving to and moving from, the reasons for moving, etc. - 32 million people in the US moved in 2018, that is 10.1% of the population of 319 million US residents. \n\n[Robert Half survey](https://www.prnewswire.com/news-releases/62-percent-of-workers-would-relocate-for-a-job-survey-finds-300777953.html): The online surveys developed by Robert Half and conducted by Independent research firms include reponses from more than 2,800 US workers 18 years of age or odler and employed in offive environments and more than 2,800 senior managers at companies with 20 or more employees in 28 major US cities - 62% of workers said they would relocate for a job.\n\n\n**Methodology & Execution**<br>\n[NYU 2014 New York City Neighborhood Names](https://geo.nyu.edu/catalog/nyu-2451-34572): GeoJSON file that was created as a guide to New York City\u2019s neighborhoods that appear on the web resource, \u201cNew York: A City of Neighborhoods.\u201d This includes information on boroughs, neighborhoods, and location(latitudes & longitudes) of each neighborhoods.\n\n[City of San Diego Neighborhoods shapes](https://github.com/blackmad/neighborhoods/blob/master/gn-san-diego.geojson): GeoJSON file that provides an overview of the neighborhoods in Sandiego. This includes information on neighborhoods and location(latitudes & longitudes) of each neighborhoods.\n\n[Foursquare API](https://developer.foursquare.com/): This collects information on venues in the selected neighborhoods.\n\n[Zillow Market Reports](https://www.zillow.com/san-diego-ca/home-values/): This provides an excel file for the selected city's housing market reports. It includes information on neighborhood loation, Zillow home value index per number of beds for each neighborhoods, average zillow home value index for each neighborhoods, Median value per sq.ft.($) for each neighborhoods.\n\n[Sandiego.gov Crime Statistics and Maps](https://www.sandiego.gov/police/services/statistics): San Diego provides crimes by neighborhood, and I'm using 'January-August 2019 data'. This includes information on type of crimes and neighborhood that the crimes occured in. "
        },
        {
            "cell_type": "code",
            "execution_count": null,
            "metadata": {},
            "outputs": [],
            "source": ""
        }
    ],
    "metadata": {
        "kernelspec": {
            "display_name": "Python 3.6",
            "language": "python",
            "name": "python3"
        },
        "language_info": {
            "codemirror_mode": {
                "name": "ipython",
                "version": 3
            },
            "file_extension": ".py",
            "mimetype": "text/x-python",
            "name": "python",
            "nbconvert_exporter": "python",
            "pygments_lexer": "ipython3",
            "version": "3.6.9"
        }
    },
    "nbformat": 4,
    "nbformat_minor": 1
}